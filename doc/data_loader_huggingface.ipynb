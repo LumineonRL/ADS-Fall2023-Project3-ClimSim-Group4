{
 "cells": [
  {
   "cell_type": "markdown",
   "id": "44237fcd",
   "metadata": {},
   "source": [
    "## First: Load file from the Huggingface website"
   ]
  },
  {
   "cell_type": "markdown",
   "id": "3866c006",
   "metadata": {},
   "source": [
    "For this we need to define a dictionary, that includes the file_name as the key and file_name.type as the value. Then we can proceed with loading the file from Huggingface."
   ]
  },
  {
   "cell_type": "code",
   "execution_count": null,
   "id": "5867105f",
   "metadata": {},
   "outputs": [],
   "source": [
    "def load_dataset_from_huggingface(data_files, path = \"LEAP/subsampled_low_res\"):\n",
    "    from datasets import load_dataset\n",
    "    from tqdm import tqdm\n",
    "    import numpy as np\n",
    "\n",
    "    dataset = load_dataset(path, data_files=data_files)\n",
    "    \n",
    "    for f in data_files.keys():\n",
    "        data_file = f\n",
    "\n",
    "    combined_lists = []\n",
    "    for key in tqdm(dataset[data_file].features.keys()):\n",
    "        combined_lists.append(dataset[data_file][key])\n",
    "\n",
    "    hf_array = np.array(combined_lists, dtype=np.float32)\n",
    "    hf_array = np.transpose(hf_array)\n",
    "    \n",
    "    return hf_array\n",
    "    "
   ]
  },
  {
   "cell_type": "markdown",
   "id": "2f4eaa44",
   "metadata": {},
   "source": [
    "## Second: Load file from the local system"
   ]
  },
  {
   "cell_type": "markdown",
   "id": "4b45d7fb",
   "metadata": {},
   "source": [
    "For this we just need the file_name and the root_path where it is stored in your local system."
   ]
  },
  {
   "cell_type": "code",
   "execution_count": null,
   "id": "061e9761",
   "metadata": {},
   "outputs": [],
   "source": [
    "from climsim_utils.data_utils import *\n",
    "\n",
    "def load_original_dataset(file_name, root_path):\n",
    "\n",
    "    grid_path = '/Users/shreyaverma/Documents/GitHub/ClimSim/grid_info/ClimSim_low-res_grid-info.nc'\n",
    "    norm_path = '/Users/shreyaverma/Documents/GitHub/ClimSim/preprocessing/normalizations/'\n",
    "\n",
    "    grid_info = xr.open_dataset(grid_path)\n",
    "    input_mean = xr.open_dataset(norm_path + 'inputs/input_mean.nc')\n",
    "    input_max = xr.open_dataset(norm_path + 'inputs/input_max.nc')\n",
    "    input_min = xr.open_dataset(norm_path + 'inputs/input_min.nc')\n",
    "    output_scale = xr.open_dataset(norm_path + 'outputs/output_scale.nc')\n",
    "\n",
    "    data = data_utils(grid_info = grid_info, \n",
    "                      input_mean = input_mean, \n",
    "                      input_max = input_max, \n",
    "                      input_min = input_min, \n",
    "                      output_scale = output_scale)\n",
    "\n",
    "    data.set_to_v1_vars()\n",
    "    project_path = os.path.dirname(root_path)\n",
    "    data_path = os.path.join(project_path, 'GitHub/ClimSim/small_npys/')\n",
    "    \n",
    "    final_array = data.load_npy_file(data_path + file_name)\n",
    "        \n",
    "    return final_array"
   ]
  },
  {
   "cell_type": "markdown",
   "id": "c8ce4283",
   "metadata": {},
   "source": [
    "## Third: Compare whether the files are same"
   ]
  },
  {
   "cell_type": "code",
   "execution_count": null,
   "id": "53842b03",
   "metadata": {
    "scrolled": false
   },
   "outputs": [],
   "source": [
    "data_files = {\"scoring_input\": \"scoring_input.parquet\"} # Defining the dictionary\n",
    "hf_array = load_dataset_from_huggingface(data_files)\n",
    "hf_array.shape"
   ]
  },
  {
   "cell_type": "code",
   "execution_count": null,
   "id": "521a8971",
   "metadata": {},
   "outputs": [],
   "source": [
    "root_path = \"/Users/shreyaverma/Documents/\"  # Giving the root path\n",
    "file_name = 'scoring_input.npy'  # Giving the file name\n",
    "final_array = load_original_dataset(file_name, root_path)\n",
    "final_array.shape"
   ]
  },
  {
   "cell_type": "code",
   "execution_count": null,
   "id": "4f99ea6c",
   "metadata": {},
   "outputs": [],
   "source": [
    "hf_array.shape == final_array.shape"
   ]
  },
  {
   "cell_type": "code",
   "execution_count": null,
   "id": "9ef39f9d",
   "metadata": {},
   "outputs": [],
   "source": []
  }
 ],
 "metadata": {
  "kernelspec": {
   "display_name": "Python 3 (ipykernel)",
   "language": "python",
   "name": "python3"
  },
  "language_info": {
   "codemirror_mode": {
    "name": "ipython",
    "version": 3
   },
   "file_extension": ".py",
   "mimetype": "text/x-python",
   "name": "python",
   "nbconvert_exporter": "python",
   "pygments_lexer": "ipython3",
   "version": "3.11.5"
  }
 },
 "nbformat": 4,
 "nbformat_minor": 5
}
